{
 "cells": [
  {
   "cell_type": "markdown",
   "metadata": {
    "colab_type": "text",
    "id": "5Z6yb_gzz1XI"
   },
   "source": [
    "# Assignmnet 4\n",
    "\n",
    "### IFT6758 Fall 2019\n",
    "\n",
    "### Due date: December 15, 2019\n",
    "\n",
    "### Submit your answers and code as a pdf file in gradescope."
   ]
  },
  {
   "cell_type": "markdown",
   "metadata": {
    "colab_type": "text",
    "id": "W97qSa5O_SxR"
   },
   "source": [
    "## Marc-Antoine Provost"
   ]
  },
  {
   "cell_type": "markdown",
   "metadata": {
    "colab_type": "text",
    "id": "HzOxCc2oz1XK"
   },
   "source": [
    "### Deep Learning (Convolutional Neural Networks) [60 points + 10 bonus points]\n",
    "\n",
    "This set of assignments will give you experience with deep learning. You will learn how to use convolution neural networks on a image corpus. \n",
    "\n",
    "For this problem use [documentation for Keras](https://keras.io/) deep learning library and for [Sklearn](https://scikit-learn.org/stable/index.html). Provide your code and the output.\n",
    "\n",
    "#### Data preparation (20 points)\n",
    "\n",
    "1. (1 point) Search MNIST dataset at [OpenML](https://www.openml.org/), it is called \"mnist_784\". Download it using sklearn function `fetch_openml`. Get features and targets."
   ]
  },
  {
   "cell_type": "code",
   "execution_count": 0,
   "metadata": {
    "colab": {},
    "colab_type": "code",
    "id": "WN00q8BjoE9-"
   },
   "outputs": [],
   "source": [
    "from sklearn.datasets import fetch_openml\n",
    "import numpy as np\n",
    "import matplotlib.pyplot as plt\n",
    "import pandas as pd"
   ]
  },
  {
   "cell_type": "code",
   "execution_count": 0,
   "metadata": {
    "colab": {},
    "colab_type": "code",
    "id": "vRSF6Kdbz1XL"
   },
   "outputs": [],
   "source": [
    "# Your solution here\n",
    "mnist_data = fetch_openml('mnist_784')\n",
    "X, y = mnist_data['data'], mnist_data['target']"
   ]
  },
  {
   "cell_type": "code",
   "execution_count": 0,
   "metadata": {
    "colab": {},
    "colab_type": "code",
    "id": "avYhvNxUv5pl"
   },
   "outputs": [],
   "source": [
    "# reshape\n",
    "x_reshaped = np.reshape(X, (X.shape[0],28,28))\n",
    "\n",
    "def show_images(images, labels=None, columns=5, show_num=5):\n",
    "  for i in range(show_num):\n",
    "    plt.subplot(show_num / columns + 1, columns, i + 1)\n",
    "\n",
    "    if labels is not None:\n",
    "      plt.title(labels[i])\n",
    "\n",
    "    plt.grid(None)\n",
    "    plt.axis('off')\n",
    "    plt.imshow(images[i], cmap='gray')\n",
    "\n",
    "  plt.show()"
   ]
  },
  {
   "cell_type": "code",
   "execution_count": 0,
   "metadata": {
    "colab": {
     "base_uri": "https://localhost:8080/",
     "height": 105
    },
    "colab_type": "code",
    "id": "IUqddXfP1WBZ",
    "outputId": "0a255e29-5a4b-4019-e024-e8c5bbce7ece"
   },
   "outputs": [
    {
     "data": {
      "image/png": "[encoded data removed]",
      "text/plain": [
       "<Figure size 432x288 with 5 Axes>"
      ]
     },
     "metadata": {
      "tags": []
     },
     "output_type": "display_data"
    }
   ],
   "source": [
    "show_images(x_reshaped, y)"
   ]
  },
  {
   "cell_type": "markdown",
   "metadata": {
    "colab_type": "text",
    "id": "___LmoL7z1XN"
   },
   "source": [
    "> This dataset represents each (28x28) image as a flat arrray of 784 features.\n",
    "\n",
    "2. (3 point) Reshape it back to 28x28 and visualize a couple of images with matplotlib.\n",
    "\n",
    "> Finally, we want to add one dummy dimension for the non-existent color information. Every resulting image should have dimensions 28x28x1. \n",
    ">\n",
    "> We want this extra dimensions because image libraries are targeted towards RGB images that have 3 channels. Therefore RGB images are conviniently represented by the shape of WxHx3. We don't have 3 colors for MNIST dataset, so we just provide 1 channel.\n",
    "\n",
    "3. (3 point) Add a channel dimension.\n"
   ]
  },
  {
   "cell_type": "code",
   "execution_count": 0,
   "metadata": {
    "colab": {
     "base_uri": "https://localhost:8080/",
     "height": 34
    },
    "colab_type": "code",
    "id": "9Im01is2z1XN",
    "outputId": "c8c5ff20-aee5-4558-c43f-0a5e439645c0"
   },
   "outputs": [
    {
     "data": {
      "text/plain": [
       "(70000, 28, 28, 1)"
      ]
     },
     "execution_count": 5,
     "metadata": {
      "tags": []
     },
     "output_type": "execute_result"
    }
   ],
   "source": [
    "# Your solution here\n",
    "x_reshaped = x_reshaped[:,:,:, np.newaxis]\n",
    "x_reshaped.shape"
   ]
  },
  {
   "cell_type": "markdown",
   "metadata": {
    "colab_type": "text",
    "id": "fn9MhHtSz1XP"
   },
   "source": [
    "> To simplify the task we exclude some classes.\n",
    "\n",
    "4. (3 point) Filter data leaving only classes `1`, `3`, `7`. Transform features and targets. How many data points left after filtering?"
   ]
  },
  {
   "cell_type": "code",
   "execution_count": 0,
   "metadata": {
    "colab": {
     "base_uri": "https://localhost:8080/",
     "height": 34
    },
    "colab_type": "code",
    "id": "ktKgguIQz1XP",
    "outputId": "47ffe4e0-e3ac-4fe0-a797-06f551553a3f"
   },
   "outputs": [
    {
     "name": "stdout",
     "output_type": "stream",
     "text": [
      "There are now 22311 data points left after filtering.\n"
     ]
    }
   ],
   "source": [
    "# Your solution here\n",
    "# find indices where the label is not 1, 3, or 7\n",
    "wanted_classes = ['1','3','7']\n",
    "indices = [i for i in range(len(y)) if y[i] not in wanted_classes]\n",
    "\n",
    "x_filtered = np.delete(x_reshaped, indices, axis=0)\n",
    "y_filtered = np.delete(y, indices, axis=0).astype(int)\n",
    "print(f\"There are now {len(x_reshaped) - len(indices)} data points left after filtering.\")\n"
   ]
  },
  {
   "cell_type": "markdown",
   "metadata": {
    "colab_type": "text",
    "id": "V5V6yFByz1XR"
   },
   "source": [
    "5. (5 point) Convert targets to one-hot representation. Complete the following template.\n",
    "\n",
    "\n",
    "```python\n",
    "def to_categorical(array, classes):\n",
    "    \"\"\"\n",
    "    array -- array of targets\n",
    "    classes -- list of classes\n",
    "    \"\"\"\n",
    "    ...\n",
    "\n",
    "mnist_targets = to_categorical(mnist_targets, classes=...)\n",
    "```"
   ]
  },
  {
   "cell_type": "code",
   "execution_count": 0,
   "metadata": {
    "colab": {},
    "colab_type": "code",
    "id": "7wcXJ9pRz1XS"
   },
   "outputs": [],
   "source": [
    "# Your solution here\n",
    "def to_categorial(target, classes):\n",
    "  one_hot = [[] for i in range(len(target))]\n",
    "  for idx, value in enumerate(target):\n",
    "    one_hot[idx] = np.zeros(len(classes), dtype=int).tolist()\n",
    "    for i, number in enumerate(classes):\n",
    "      if value == number:\n",
    "        one_hot[idx][i] += 1\n",
    "  return one_hot"
   ]
  },
  {
   "cell_type": "code",
   "execution_count": 0,
   "metadata": {
    "colab": {},
    "colab_type": "code",
    "id": "LZ1vtzbChtdF"
   },
   "outputs": [],
   "source": [
    "mnist_targets = to_categorial(y_filtered, np.unique(y_filtered))"
   ]
  },
  {
   "cell_type": "markdown",
   "metadata": {
    "colab_type": "text",
    "id": "cFSmQf2az1XT"
   },
   "source": [
    "6. (5 point) Split the dataset into train, validataion, and test. Take first 16,000 images and targets as the train, then next 3,000 as validation, then the rest as the test subset."
   ]
  },
  {
   "cell_type": "code",
   "execution_count": 0,
   "metadata": {
    "colab": {},
    "colab_type": "code",
    "id": "iOshw8xxz1XU"
   },
   "outputs": [],
   "source": [
    "# Your solution here\n",
    "x_train = x_filtered[:16000]\n",
    "y_train = mnist_targets[:16000]\n",
    "x_valid = x_filtered[16000:19000]\n",
    "y_valid = mnist_targets[16000:19000]\n",
    "x_test = x_filtered[19000:]\n",
    "y_test = mnist_targets[19000:]"
   ]
  },
  {
   "cell_type": "code",
   "execution_count": 0,
   "metadata": {
    "colab": {},
    "colab_type": "code",
    "id": "SqrBeME2V-ir"
   },
   "outputs": [],
   "source": [
    "y_train = np.reshape(y_train, (16000,3))\n",
    "y_valid = np.reshape(y_valid, (3000,3))\n",
    "y_test = np.reshape(y_test, (3311,3))"
   ]
  },
  {
   "cell_type": "markdown",
   "metadata": {
    "colab_type": "text",
    "id": "fbd6JDHFz1XW"
   },
   "source": [
    "\n",
    "#### Training (35 points)\n"
   ]
  },
  {
   "cell_type": "markdown",
   "metadata": {
    "colab_type": "text",
    "id": "WLwaDGjhz1XW"
   },
   "source": [
    "Use Keras (https://keras.io/) to create a neural network model. Use a sequential layer to combine following layers in this order:\n",
    "- Convolution with 6 feature maps 5x5\n",
    "- Rectified linear unit activation\n",
    "- Max-pooling by factor of 2 each spacial dimension\n",
    "- Convolution with 16 feature maps 5x5\n",
    "- Rectified linear unit activation\n",
    "- Max-pooling by factor of 2 each spacial dimension\n",
    "- Flatten layer\n",
    "- Dense layer with 128 output units\n",
    "- Rectified linear unit activation\n",
    "- Dense layer. Same size as the target.\n",
    "- Softmax activation\n",
    "\n",
    "1. (10 points) Complete the following template.\n",
    "\n",
    "```python\n",
    "... # place your imports here\n",
    "\n",
    "model = Sequential([\n",
    "    ..., # convolution\n",
    "    ..., # activation\n",
    "    ..., # pooling\n",
    "    ..., # convolution\n",
    "    ..., # activation\n",
    "    ..., # pooling\n",
    "    Flatten(),\n",
    "    ..., # fully connected\n",
    "    ..., # activation\n",
    "    ..., # fully connected output\n",
    "    ..., # softmax\n",
    "])\n",
    "model.summary()\n",
    "```"
   ]
  },
  {
   "cell_type": "code",
   "execution_count": 0,
   "metadata": {
    "colab": {
     "base_uri": "https://localhost:8080/",
     "height": 590
    },
    "colab_type": "code",
    "id": "EvRbp25Uz1XX",
    "outputId": "9ac003f3-aa7c-44c3-c400-c30e67a4b681"
   },
   "outputs": [
    {
     "name": "stderr",
     "output_type": "stream",
     "text": [
      "Using TensorFlow backend.\n"
     ]
    },
    {
     "data": {
      "text/html": [
       "<p style=\"color: red;\">\n",
       "The default version of TensorFlow in Colab will soon switch to TensorFlow 2.x.<br>\n",
       "We recommend you <a href=\"https://www.tensorflow.org/guide/migrate\" target=\"_blank\">upgrade</a> now \n",
       "or ensure your notebook will continue to use TensorFlow 1.x via the <code>%tensorflow_version 1.x</code> magic:\n",
       "<a href=\"https://colab.research.google.com/notebooks/tensorflow_version.ipynb\" target=\"_blank\">more info</a>.</p>\n"
      ],
      "text/plain": [
       "<IPython.core.display.HTML object>"
      ]
     },
     "metadata": {
      "tags": []
     },
     "output_type": "display_data"
    },
    {
     "name": "stdout",
     "output_type": "stream",
     "text": [
      "WARNING:tensorflow:From /usr/local/lib/python3.6/dist-packages/keras/backend/tensorflow_backend.py:66: The name tf.get_default_graph is deprecated. Please use tf.compat.v1.get_default_graph instead.\n",
      "\n",
      "WARNING:tensorflow:From /usr/local/lib/python3.6/dist-packages/keras/backend/tensorflow_backend.py:541: The name tf.placeholder is deprecated. Please use tf.compat.v1.placeholder instead.\n",
      "\n",
      "WARNING:tensorflow:From /usr/local/lib/python3.6/dist-packages/keras/backend/tensorflow_backend.py:4432: The name tf.random_uniform is deprecated. Please use tf.random.uniform instead.\n",
      "\n",
      "WARNING:tensorflow:From /usr/local/lib/python3.6/dist-packages/keras/backend/tensorflow_backend.py:4267: The name tf.nn.max_pool is deprecated. Please use tf.nn.max_pool2d instead.\n",
      "\n",
      "Model: \"sequential_1\"\n",
      "_________________________________________________________________\n",
      "Layer (type)                 Output Shape              Param #   \n",
      "=================================================================\n",
      "conv2d_1 (Conv2D)            (None, 24, 24, 6)         156       \n",
      "_________________________________________________________________\n",
      "max_pooling2d_1 (MaxPooling2 (None, 12, 12, 6)         0         \n",
      "_________________________________________________________________\n",
      "conv2d_2 (Conv2D)            (None, 8, 8, 16)          2416      \n",
      "_________________________________________________________________\n",
      "max_pooling2d_2 (MaxPooling2 (None, 4, 4, 16)          0         \n",
      "_________________________________________________________________\n",
      "flatten_1 (Flatten)          (None, 256)               0         \n",
      "_________________________________________________________________\n",
      "dense_1 (Dense)              (None, 128)               32896     \n",
      "_________________________________________________________________\n",
      "dense_2 (Dense)              (None, 3)                 387       \n",
      "=================================================================\n",
      "Total params: 35,855\n",
      "Trainable params: 35,855\n",
      "Non-trainable params: 0\n",
      "_________________________________________________________________\n"
     ]
    }
   ],
   "source": [
    "# Your solution here\n",
    "from keras.models import Sequential\n",
    "from keras.layers import Dense, Activation, Flatten\n",
    "from keras.layers import Conv2D, MaxPooling2D\n",
    "\n",
    "input_shape = (28,28,1)\n",
    "\n",
    "model = Sequential()\n",
    "model.add(Conv2D(6, kernel_size = 5, activation = 'relu', input_shape = input_shape))\n",
    "model.add(MaxPooling2D(pool_size=(2,2)))\n",
    "model.add(Conv2D(16, kernel_size= 5, activation='relu'))\n",
    "model.add(MaxPooling2D(pool_size=(2,2)))\n",
    "model.add(Flatten())\n",
    "model.add(Dense(128, activation='relu'))\n",
    "model.add(Dense(3, activation='softmax'))\n",
    "\n",
    "model.summary()"
   ]
  },
  {
   "cell_type": "markdown",
   "metadata": {
    "colab_type": "text",
    "id": "W5mn_1G-z1XZ"
   },
   "source": [
    "2. (5 point) Create a stochastic gradient optimizer optimizer with learning rate of $10^{-4}$. Compile the model with the categorical crossentropy loss. Set the model to report accuracy metric. Complete the template.\n",
    "\n",
    "\n",
    "```python\n",
    "... # place your imports here\n",
    "\n",
    "optimizer = ... # create stochastic gradient optimizer\n",
    "model.compile(loss='categorical_crossentropy',\n",
    "              optimizer=optimizer,\n",
    "              metrics=['accuracy'],\n",
    "              )\n",
    "```"
   ]
  },
  {
   "cell_type": "code",
   "execution_count": 0,
   "metadata": {
    "colab": {
     "base_uri": "https://localhost:8080/",
     "height": 85
    },
    "colab_type": "code",
    "id": "9hX9AsDfz1XZ",
    "outputId": "29286c51-195c-48a8-c7f9-5637eeb58a9b"
   },
   "outputs": [
    {
     "name": "stdout",
     "output_type": "stream",
     "text": [
      "WARNING:tensorflow:From /usr/local/lib/python3.6/dist-packages/keras/optimizers.py:793: The name tf.train.Optimizer is deprecated. Please use tf.compat.v1.train.Optimizer instead.\n",
      "\n",
      "WARNING:tensorflow:From /usr/local/lib/python3.6/dist-packages/keras/backend/tensorflow_backend.py:3576: The name tf.log is deprecated. Please use tf.math.log instead.\n",
      "\n"
     ]
    }
   ],
   "source": [
    "# Your solution here\n",
    "from keras import optimizers\n",
    "\n",
    "optimizer = optimizers.SGD(lr=1e-4)\n",
    "model.compile(loss='categorical_crossentropy',\n",
    "              optimizer = optimizer,\n",
    "              metrics = ['accuracy'],\n",
    "              )\n"
   ]
  },
  {
   "cell_type": "markdown",
   "metadata": {
    "colab_type": "text",
    "id": "P4CJxXqVz1Xb"
   },
   "source": [
    "3. (15 points) Train the model on the training set for at least 5 epochs. Perform validation after every epoch.\n",
    "\n",
    "> **HINT** Find a method that performs training in the Keras documentation. Study the documentation paying attention to all arguments and the return value of the method.\n",
    "\n",
    "> The model should have at least 95% accuracy on the training set. It might happen that the training gets stuck. In this case, go to the step before prevoious, recreate and rerun the model. \n",
    "\n",
    "> **WARNING** This step might take several minutes to compute on a laptop."
   ]
  },
  {
   "cell_type": "code",
   "execution_count": 0,
   "metadata": {
    "colab": {
     "base_uri": "https://localhost:8080/",
     "height": 544
    },
    "colab_type": "code",
    "id": "aIBpRiD0z1Xb",
    "outputId": "73e0f839-42c5-440b-dfbe-1be138793b3a"
   },
   "outputs": [
    {
     "name": "stdout",
     "output_type": "stream",
     "text": [
      "WARNING:tensorflow:From /usr/local/lib/python3.6/dist-packages/tensorflow_core/python/ops/math_grad.py:1424: where (from tensorflow.python.ops.array_ops) is deprecated and will be removed in a future version.\n",
      "Instructions for updating:\n",
      "Use tf.where in 2.0, which has the same broadcast rule as np.where\n",
      "WARNING:tensorflow:From /usr/local/lib/python3.6/dist-packages/keras/backend/tensorflow_backend.py:1033: The name tf.assign_add is deprecated. Please use tf.compat.v1.assign_add instead.\n",
      "\n",
      "WARNING:tensorflow:From /usr/local/lib/python3.6/dist-packages/keras/backend/tensorflow_backend.py:1020: The name tf.assign is deprecated. Please use tf.compat.v1.assign instead.\n",
      "\n",
      "WARNING:tensorflow:From /usr/local/lib/python3.6/dist-packages/keras/backend/tensorflow_backend.py:3005: The name tf.Session is deprecated. Please use tf.compat.v1.Session instead.\n",
      "\n",
      "Train on 16000 samples, validate on 3000 samples\n",
      "Epoch 1/5\n",
      "WARNING:tensorflow:From /usr/local/lib/python3.6/dist-packages/keras/backend/tensorflow_backend.py:190: The name tf.get_default_session is deprecated. Please use tf.compat.v1.get_default_session instead.\n",
      "\n",
      "WARNING:tensorflow:From /usr/local/lib/python3.6/dist-packages/keras/backend/tensorflow_backend.py:197: The name tf.ConfigProto is deprecated. Please use tf.compat.v1.ConfigProto instead.\n",
      "\n",
      "WARNING:tensorflow:From /usr/local/lib/python3.6/dist-packages/keras/backend/tensorflow_backend.py:207: The name tf.global_variables is deprecated. Please use tf.compat.v1.global_variables instead.\n",
      "\n",
      "WARNING:tensorflow:From /usr/local/lib/python3.6/dist-packages/keras/backend/tensorflow_backend.py:216: The name tf.is_variable_initialized is deprecated. Please use tf.compat.v1.is_variable_initialized instead.\n",
      "\n",
      "WARNING:tensorflow:From /usr/local/lib/python3.6/dist-packages/keras/backend/tensorflow_backend.py:223: The name tf.variables_initializer is deprecated. Please use tf.compat.v1.variables_initializer instead.\n",
      "\n",
      "16000/16000 [==============================] - 9s 535us/step - loss: 1.9452 - acc: 0.8393 - val_loss: 0.2541 - val_acc: 0.9637\n",
      "Epoch 2/5\n",
      "16000/16000 [==============================] - 8s 517us/step - loss: 0.2300 - acc: 0.9660 - val_loss: 0.1764 - val_acc: 0.9760\n",
      "Epoch 3/5\n",
      "16000/16000 [==============================] - 8s 529us/step - loss: 0.1758 - acc: 0.9730 - val_loss: 0.1329 - val_acc: 0.9797\n",
      "Epoch 4/5\n",
      "16000/16000 [==============================] - 8s 524us/step - loss: 0.1441 - acc: 0.9773 - val_loss: 0.1190 - val_acc: 0.9790\n",
      "Epoch 5/5\n",
      "16000/16000 [==============================] - 8s 514us/step - loss: 0.1240 - acc: 0.9789 - val_loss: 0.1032 - val_acc: 0.9817\n"
     ]
    },
    {
     "data": {
      "text/plain": [
       "<keras.callbacks.History at 0x7fbc0ad89240>"
      ]
     },
     "execution_count": 13,
     "metadata": {
      "tags": []
     },
     "output_type": "execute_result"
    }
   ],
   "source": [
    "# Your solution here\n",
    "model.fit(x_train, y_train, batch_size = 32, verbose=1, epochs=5, validation_data=(x_valid, y_valid))"
   ]
  },
  {
   "cell_type": "markdown",
   "metadata": {
    "colab_type": "text",
    "id": "oJZUHX0dz1Xd"
   },
   "source": [
    "4. (5 point) Plot the training loss against the validation loss. Do you observe overfitting/underfitting?\n",
    "\n",
    "> **HINT** Explore the return value in the previous step."
   ]
  },
  {
   "cell_type": "code",
   "execution_count": 34,
   "metadata": {
    "colab": {
     "base_uri": "https://localhost:8080/",
     "height": 573
    },
    "colab_type": "code",
    "id": "E02CbYsBz1Xd",
    "outputId": "1f94410e-4cb9-4af6-c268-62bfd93c8660"
   },
   "outputs": [
    {
     "data": {
      "image/png": "[encoded data removed]",
      "text/plain": [
       "<Figure size 432x288 with 1 Axes>"
      ]
     },
     "metadata": {
      "tags": []
     },
     "output_type": "display_data"
    },
    {
     "data": {
      "image/png": "[encoded data removed]",
      "text/plain": [
       "<Figure size 432x288 with 1 Axes>"
      ]
     },
     "metadata": {
      "tags": []
     },
     "output_type": "display_data"
    }
   ],
   "source": [
    "# Your solution here\n",
    "import matplotlib.pyplot as plt\n",
    "\n",
    "plt.plot(model.history.history['loss'])\n",
    "plt.plot(model.history.history['val_loss'])\n",
    "plt.title(\"model loss\")\n",
    "plt.legend(['train', 'validation'], loc='upper right')\n",
    "plt.ylabel('loss')\n",
    "plt.xlabel('epoch')\n",
    "plt.show()\n",
    "\n",
    "plt.plot(model.history.history['acc'])\n",
    "plt.plot(model.history.history['val_acc'])\n",
    "plt.title('model accuracy')\n",
    "plt.ylabel('accuracy')\n",
    "plt.xlabel('epoch')\n",
    "plt.legend(['train', 'test'], loc='upper left')\n",
    "plt.show()"
   ]
  },
  {
   "cell_type": "markdown",
   "metadata": {
    "colab_type": "text",
    "id": "9zYecXWyPduU"
   },
   "source": [
    "I do not observe overfitting since the validation loss doesn't increase, but continues to decrease as the number of epochs grow. "
   ]
  },
  {
   "cell_type": "markdown",
   "metadata": {
    "colab_type": "text",
    "id": "ZRqIv9xZz1Xf"
   },
   "source": [
    "#### Evaluation (5 points)\n",
    "\n",
    "1. (1 point) Make prediciton of the model on the test set \n"
   ]
  },
  {
   "cell_type": "code",
   "execution_count": 0,
   "metadata": {
    "colab": {},
    "colab_type": "code",
    "id": "lmv0rOkyz1Xg"
   },
   "outputs": [],
   "source": [
    "# Your solution here\n",
    "test_predictions = model.predict(x_test)"
   ]
  },
  {
   "cell_type": "markdown",
   "metadata": {
    "colab_type": "text",
    "id": "FKNg0W0Bz1Xh"
   },
   "source": [
    "2. (4 points) Compute the confusion matrix and the accuracy. Which classes confused most often?\n",
    "\n",
    "> The model should have at least 90% accuracy."
   ]
  },
  {
   "cell_type": "code",
   "execution_count": 0,
   "metadata": {
    "colab": {},
    "colab_type": "code",
    "id": "8ySchYxb0wgT"
   },
   "outputs": [],
   "source": [
    "y_pred = list(np.argmax(test_predictions, axis=1))"
   ]
  },
  {
   "cell_type": "code",
   "execution_count": 0,
   "metadata": {
    "colab": {},
    "colab_type": "code",
    "id": "Xr9y8D59z1Xi"
   },
   "outputs": [],
   "source": [
    "# Your solution here\n",
    "from sklearn.metrics import confusion_matrix\n",
    "\n",
    "y_true = y_filtered[19000:]\n",
    "y_confusion = np.zeros(len(y_true))\n",
    "\n",
    "for idx, val in enumerate(y_pred):\n",
    "  if val == 0:\n",
    "    y_confusion[idx] += 1\n",
    "  elif val == 1:\n",
    "    y_confusion[idx] += 3\n",
    "  elif val == 2:\n",
    "    y_confusion[idx] += 7"
   ]
  },
  {
   "cell_type": "code",
   "execution_count": 0,
   "metadata": {
    "colab": {
     "base_uri": "https://localhost:8080/",
     "height": 204
    },
    "colab_type": "code",
    "id": "6fejpGZP8rxe",
    "outputId": "5c4ef9fe-bb55-45b6-c514-5a0424046b23"
   },
   "outputs": [
    {
     "data": {
      "text/html": [
       "<div>\n",
       "<style scoped>\n",
       "    .dataframe tbody tr th:only-of-type {\n",
       "        vertical-align: middle;\n",
       "    }\n",
       "\n",
       "    .dataframe tbody tr th {\n",
       "        vertical-align: top;\n",
       "    }\n",
       "\n",
       "    .dataframe thead th {\n",
       "        text-align: right;\n",
       "    }\n",
       "</style>\n",
       "<table border=\"1\" class=\"dataframe\">\n",
       "  <thead>\n",
       "    <tr style=\"text-align: right;\">\n",
       "      <th>Predicted</th>\n",
       "      <th>1.0</th>\n",
       "      <th>3.0</th>\n",
       "      <th>7.0</th>\n",
       "      <th>All</th>\n",
       "    </tr>\n",
       "    <tr>\n",
       "      <th>True</th>\n",
       "      <th></th>\n",
       "      <th></th>\n",
       "      <th></th>\n",
       "      <th></th>\n",
       "    </tr>\n",
       "  </thead>\n",
       "  <tbody>\n",
       "    <tr>\n",
       "      <th>1</th>\n",
       "      <td>1173</td>\n",
       "      <td>8</td>\n",
       "      <td>1</td>\n",
       "      <td>1182</td>\n",
       "    </tr>\n",
       "    <tr>\n",
       "      <th>3</th>\n",
       "      <td>13</td>\n",
       "      <td>1019</td>\n",
       "      <td>21</td>\n",
       "      <td>1053</td>\n",
       "    </tr>\n",
       "    <tr>\n",
       "      <th>7</th>\n",
       "      <td>20</td>\n",
       "      <td>13</td>\n",
       "      <td>1043</td>\n",
       "      <td>1076</td>\n",
       "    </tr>\n",
       "    <tr>\n",
       "      <th>All</th>\n",
       "      <td>1206</td>\n",
       "      <td>1040</td>\n",
       "      <td>1065</td>\n",
       "      <td>3311</td>\n",
       "    </tr>\n",
       "  </tbody>\n",
       "</table>\n",
       "</div>"
      ],
      "text/plain": [
       "Predicted   1.0   3.0   7.0   All\n",
       "True                             \n",
       "1          1173     8     1  1182\n",
       "3            13  1019    21  1053\n",
       "7            20    13  1043  1076\n",
       "All        1206  1040  1065  3311"
      ]
     },
     "execution_count": 30,
     "metadata": {
      "tags": []
     },
     "output_type": "execute_result"
    }
   ],
   "source": [
    "confusion = confusion_matrix(y_true, y_confusion)\n",
    "pd.crosstab(y_true, y_confusion, rownames=['True'], colnames=['Predicted'], margins=True)"
   ]
  },
  {
   "cell_type": "markdown",
   "metadata": {
    "colab_type": "text",
    "id": "RYqsr3FvPqdd"
   },
   "source": [
    "The classes that are confused most often are the class 3 and 7, with 34 uncorrect predictions for class 3 and 33 uncorrect preditions for class 7."
   ]
  },
  {
   "cell_type": "markdown",
   "metadata": {
    "colab_type": "text",
    "id": "0_RXshgLz1Xk"
   },
   "source": [
    "#### Bonus point (10 points)\n",
    "\n",
    "Can you suggest/implement a new model/paramter to omprove the performance?"
   ]
  },
  {
   "cell_type": "code",
   "execution_count": 35,
   "metadata": {
    "colab": {
     "base_uri": "https://localhost:8080/",
     "height": 318
    },
    "colab_type": "code",
    "id": "f6CRTjSpEA3h",
    "outputId": "2b78c9ec-3af6-4fbe-cb1e-cfec8a34930d"
   },
   "outputs": [
    {
     "name": "stdout",
     "output_type": "stream",
     "text": [
      "WARNING:tensorflow:From /usr/local/lib/python3.6/dist-packages/keras/backend/tensorflow_backend.py:148: The name tf.placeholder_with_default is deprecated. Please use tf.compat.v1.placeholder_with_default instead.\n",
      "\n",
      "WARNING:tensorflow:From /usr/local/lib/python3.6/dist-packages/keras/backend/tensorflow_backend.py:3733: calling dropout (from tensorflow.python.ops.nn_ops) with keep_prob is deprecated and will be removed in a future version.\n",
      "Instructions for updating:\n",
      "Please use `rate` instead of `keep_prob`. Rate should be set to `rate = 1 - keep_prob`.\n",
      "Train on 16000 samples, validate on 3000 samples\n",
      "Epoch 1/5\n",
      "16000/16000 [==============================] - 56s 3ms/step - loss: 0.8786 - acc: 0.9386 - val_loss: 0.1748 - val_acc: 0.9880\n",
      "Epoch 2/5\n",
      "16000/16000 [==============================] - 55s 3ms/step - loss: 0.2432 - acc: 0.9813 - val_loss: 0.1035 - val_acc: 0.9910\n",
      "Epoch 3/5\n",
      "16000/16000 [==============================] - 54s 3ms/step - loss: 0.1258 - acc: 0.9886 - val_loss: 0.0775 - val_acc: 0.9927\n",
      "Epoch 4/5\n",
      "16000/16000 [==============================] - 54s 3ms/step - loss: 0.0949 - acc: 0.9911 - val_loss: 0.0409 - val_acc: 0.9950\n",
      "Epoch 5/5\n",
      "16000/16000 [==============================] - 55s 3ms/step - loss: 0.0761 - acc: 0.9909 - val_loss: 0.0324 - val_acc: 0.9960\n"
     ]
    },
    {
     "data": {
      "text/plain": [
       "<keras.callbacks.History at 0x7fbbc55c2780>"
      ]
     },
     "execution_count": 35,
     "metadata": {
      "tags": []
     },
     "output_type": "execute_result"
    }
   ],
   "source": [
    "import keras\n",
    "from keras.datasets import mnist\n",
    "from keras.models import Sequential\n",
    "from keras.layers import Dense, Dropout, Flatten\n",
    "from keras.layers import Conv2D, MaxPooling2D\n",
    "\n",
    "input_shape = (28,28,1)\n",
    "\n",
    "model = Sequential()\n",
    "model.add(Conv2D(32, kernel_size=(3, 3),\n",
    "                 activation='relu',\n",
    "                 input_shape=input_shape))\n",
    "model.add(Conv2D(64, (3, 3), activation='relu'))\n",
    "model.add(MaxPooling2D(pool_size=(2, 2)))\n",
    "model.add(Dropout(0.25))\n",
    "model.add(Flatten())\n",
    "model.add(Dense(128, activation='relu'))\n",
    "model.add(Dropout(0.5))\n",
    "model.add(Dense(3, activation='softmax'))\n",
    "\n",
    "model.compile(loss=keras.losses.categorical_crossentropy,\n",
    "              optimizer=keras.optimizers.Adadelta(),\n",
    "              metrics=['accuracy'])\n",
    "\n",
    "model.fit(x_train, y_train,\n",
    "          batch_size=32,\n",
    "          epochs=5,\n",
    "          verbose=1,\n",
    "          validation_data=(x_valid, y_valid))"
   ]
  },
  {
   "cell_type": "markdown",
   "metadata": {
    "colab_type": "text",
    "id": "XgK_1_SSF7Tf"
   },
   "source": [
    "With dropout and another optimizer, I was able to achieve 99.6% accuracy on the validation set, which is an improvement from the previous CNN implemented (1% improvement)"
   ]
  },
  {
   "cell_type": "markdown",
   "metadata": {
    "colab_type": "text",
    "id": "GSPkmqIZz1Xk"
   },
   "source": [
    "### Graph ML [40 points]\n",
    "\n",
    "This set of assingments will teach you the differences between various node embeddings in graphs. Note that all questions are programming assingments but you do not need to use loss function to optimize the claculation of thesee embeddings.\n",
    "\n",
    "1- (5 points) Write a function randadjmat(n,p) in Python which returns an adjacency matrix for a \"random graph\" on n vertices. Here p is the probability of having an edge between any pair of vertices.\n",
    "\n",
    "\n"
   ]
  },
  {
   "cell_type": "code",
   "execution_count": 0,
   "metadata": {
    "colab": {},
    "colab_type": "code",
    "id": "JeQCdczuz1Xl"
   },
   "outputs": [],
   "source": [
    "def randadjmat(n,p):\n",
    "    #your solution here\n",
    "    adjacency = np.random.random((n,n))\n",
    "    adjacency = np.where(adjacency < p, 1,0)\n",
    "    np.fill_diagonal(adjacency, 0)\n",
    "    return adjacency"
   ]
  },
  {
   "cell_type": "markdown",
   "metadata": {
    "colab_type": "text",
    "id": "yx5xxqfdz1Xn"
   },
   "source": [
    "2- (5 points) Write a function transionmat(A) which, given an adjacency matrix A, generate a transition matrix T where probability of each edge (u,v) is calculated as $1/degree(u)$.\n"
   ]
  },
  {
   "cell_type": "code",
   "execution_count": 0,
   "metadata": {
    "colab": {},
    "colab_type": "code",
    "id": "cDwHKejWz1Xn"
   },
   "outputs": [],
   "source": [
    "def transionmat(A):\n",
    "    #your solution here\n",
    "    T = A.astype(float)\n",
    "    for i in range(A.shape[0]):\n",
    "      degree = np.sum(T[i])\n",
    "      T[i] = np.dot(T[i], 1/degree)\n",
    "    return T "
   ]
  },
  {
   "cell_type": "markdown",
   "metadata": {
    "colab_type": "text",
    "id": "2iwkaLWyz1Xp"
   },
   "source": [
    "3- (5 points) Write a function hotembd(A) which, given an adjacency matrix A, generate an embedding matrix H where each node is represetned with a 1-hot vector."
   ]
  },
  {
   "cell_type": "code",
   "execution_count": 0,
   "metadata": {
    "colab": {},
    "colab_type": "code",
    "id": "GK5qonBUz1Xq"
   },
   "outputs": [],
   "source": [
    "def hotembd(A):\n",
    "    #your solution here\n",
    "    n = len(A)\n",
    "    H = np.zeros((n,n))\n",
    "    for i in range(n):\n",
    "      H[i][i] += 1\n",
    "    return H"
   ]
  },
  {
   "cell_type": "markdown",
   "metadata": {
    "colab_type": "text",
    "id": "wj327X0Fz1Xr"
   },
   "source": [
    "4- (5 points) Write a function randwalkemb(A,k) which, given an adjacency matrix A, a transition matrix T, and one-hot encoding H, performs [random walks](https://en.wikipedia.org/wiki/Random_walk) on the graph from each node w times with lenght equal to l and generate an embedding matrix for each node based on the sum of 1-hot encodings of all nodes that are visited during the walks.\n"
   ]
  },
  {
   "cell_type": "code",
   "execution_count": 0,
   "metadata": {
    "colab": {},
    "colab_type": "code",
    "id": "sclvC0kj_OCr"
   },
   "outputs": [],
   "source": [
    "def randwalkembd(A,T, H, w, l):\n",
    "  n = len(A)\n",
    "  embedding_matrix = np.zeros((n,n)) \n",
    "  for node in range(n):\n",
    "    node_embedding = np.zeros((n,)) \n",
    "    for walk in range(w):\n",
    "      nodes_visited = np.zeros((n,)) \n",
    "      nodes_visited += H[node] \n",
    "      for step in range(l):\n",
    "        current_node = np.random.choice(n, size=1, p=T[node])[0]\n",
    "        nodes_visited += H[current_node]\n",
    "      node_embedding += nodes_visited\n",
    "    embedding_matrix[node] = node_embedding\n",
    "  return embedding_matrix"
   ]
  },
  {
   "cell_type": "markdown",
   "metadata": {
    "colab_type": "text",
    "id": "6LmVTdbbz1Xu"
   },
   "source": [
    "5- (5 points) Write a function hopeneighbormbd(A,H, k) which, given an adjacency matrix A, and one-hot node encoding matrix H, generates node embedding matrix which represents each node as sum of 1-hot encodings of k-hobs neighbors. \n"
   ]
  },
  {
   "cell_type": "code",
   "execution_count": 0,
   "metadata": {
    "colab": {},
    "colab_type": "code",
    "id": "d78ER544z1Xv"
   },
   "outputs": [],
   "source": [
    "def hopeneighbormbd(A, H, k):\n",
    "    #your solution here\n",
    "    from numpy.linalg import matrix_power\n",
    "    n = len(A)\n",
    "    K_hop_matrix = np.zeros((n,n))\n",
    "    K_hop_matrix = matrix_power(A, k)\n",
    "    return K_hop_matrix"
   ]
  },
  {
   "cell_type": "markdown",
   "metadata": {
    "colab_type": "text",
    "id": "sTI-7W7mz1Xz"
   },
   "source": [
    "6- (5 points) Write a function similarnodes(Z) which, given an node embedding matrix, find the most similar nodes in the graph. "
   ]
  },
  {
   "cell_type": "code",
   "execution_count": 0,
   "metadata": {
    "colab": {},
    "colab_type": "code",
    "id": "gu4IdRM-z1Xz"
   },
   "outputs": [],
   "source": [
    "def similarnodes(Z):\n",
    "    #your solution here\n",
    "    import heapq\n",
    "    n = len(Z)\n",
    "    computed = [0 for i in range(n)]\n",
    "    results = [0 for i in range(n)]\n",
    "    for node in range(n):\n",
    "      for node2 in range(n):\n",
    "        if node2 == node:\n",
    "          continue\n",
    "        cosine_similarity = dot(Z[node], Z[node2])/ (norm(Z[node])*norm(Z[node2]))\n",
    "        computed[node2] = (cosine_similarity)\n",
    "      results[node] = max(computed)\n",
    "    most_similar = np.argpartition(results, -2)[-2:]\n",
    "    return print(f\"The most similar nodes are node {most_similar[0]} and node {most_similar[1]}\")"
   ]
  },
  {
   "cell_type": "markdown",
   "metadata": {
    "colab_type": "text",
    "id": "PxScaoM6z1X1"
   },
   "source": [
    "7- (10 points) generate a random graph where n=20, and p=0.6, and compare the most similar nodes in the graph using randwalkembd (l=4, w=10), hopeneighbormbd (k=1) and hopeneighbormbd (k=2). Justify why similar nodes are different using different node embeddings?"
   ]
  },
  {
   "cell_type": "code",
   "execution_count": 251,
   "metadata": {
    "colab": {
     "base_uri": "https://localhost:8080/",
     "height": 70
    },
    "colab_type": "code",
    "id": "x8FN7oCuHYjo",
    "outputId": "c182f402-b8b4-4316-e1c6-b0250b349d16"
   },
   "outputs": [
    {
     "name": "stdout",
     "output_type": "stream",
     "text": [
      "The most similar nodes are node 13 and node 1\n",
      "The most similar nodes are node 8 and node 6\n",
      "The most similar nodes are node 16 and node 1\n"
     ]
    }
   ],
   "source": [
    "np.random.seed(0)\n",
    "A = randadjmat(20, 0.6)\n",
    "T = transionmat(A)\n",
    "H = hotembd(A)\n",
    "embedding_randm = randwalkembd(A, T, H, 10, 4)\n",
    "embedding_hop_1 = hopeneighbormbd(A, H, 1)\n",
    "embedding_hop_2 = hopeneighbormbd(A, H, 2)\n",
    "\n",
    "similarnodes(embedding_randm)\n",
    "similarnodes(embedding_hop_1)\n",
    "similarnodes(embedding_hop_2)"
   ]
  },
  {
   "cell_type": "markdown",
   "metadata": {
    "colab_type": "text",
    "id": "bHkpHDHETGnu"
   },
   "source": [
    "Each node embedding representation has a common purpose; that similar nodes in a graph have similar embeddings. How they differ is how they represent the measure of similarity between nodes. In one-hop and two-hop embeddings, nodes are similar if they share common one-hop or two-hop neighbors. While with random walk, the embeddings include local and distant neighborhood information. Thus, having a different way of measuring similarity, similar nodes with different embedding representation will be different. \n"
   ]
  }
 ],
 "metadata": {
  "colab": {
   "collapsed_sections": [],
   "name": "Assingment 4.ipynb",
   "provenance": []
  },
  "kernelspec": {
   "display_name": "Python 3",
   "language": "python",
   "name": "python3"
  },
  "language_info": {
   "codemirror_mode": {
    "name": "ipython",
    "version": 3
   },
   "file_extension": ".py",
   "mimetype": "text/x-python",
   "name": "python",
   "nbconvert_exporter": "python",
   "pygments_lexer": "ipython3",
   "version": "3.7.4"
  }
 },
 "nbformat": 4,
 "nbformat_minor": 1
}
