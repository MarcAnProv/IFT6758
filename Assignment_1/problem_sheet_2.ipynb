{
 "cells": [
  {
   "cell_type": "markdown",
   "metadata": {
    "colab_type": "text",
    "ein.tags": "worksheet-0",
    "id": "0peXAqiTngdF"
   },
   "source": [
    "# Function Fitting\n",
    "# IFT6758 Fall 2019\n",
    "## Marc-Antoine Provost"
   ]
  },
  {
   "cell_type": "markdown",
   "metadata": {
    "colab_type": "text",
    "id": "nbFa0M57qKML"
   },
   "source": [
    "## Linear Regression"
   ]
  },
  {
   "cell_type": "markdown",
   "metadata": {
    "colab_type": "text",
    "ein.tags": "worksheet-0",
    "id": "k6CozozengdX"
   },
   "source": [
    "1. [ISLR 3.7.5] Consider the fitted values that result from performing linear regression without an intercept. In this setting, the $i^{th}$ fitted value takes the form,\n",
    "$\\hat{y}_i = x_i \\hat{\\beta}$\n",
    "where\n",
    "$$\\hat{\\beta} = \\frac{\\sum_{i = 1}^{n} x_i y_i}{\\sum_{i = 1}^{n} x_i^{2}}$$\n",
    "Show that we can write\n",
    "$$\n",
    "\\hat{y}_i = \\sum_{i^{\\prime}} a_{i^\\prime}y_{i^{\\prime}}.\n",
    "$$\n",
    "What is $a_{i^{\\prime}}$? Note: We interpret this result by saying that the fitted values from linear regression are **linear combinations** of the response values."
   ]
  },
  {
   "cell_type": "markdown",
   "metadata": {},
   "source": [
    "### Answer\n",
    "\n",
    "\n",
    "$$ \\hat{y}_{i} = x_{i} \\times \\frac{\\sum_{i'=1}^{n}\\left ( x_{i'} y_{i'} \\right )}{\\sum_{j=1}^{n} x_{j}^{2}} $$\n",
    "\n",
    "$$ \\hat{y}_{i} = \\sum_{i'=1}^{n} \\frac{\\left ( x_{i'} y_{i'} \\right ) \\times x_{i}}{\\sum_{j=1}^{n} x_{j}^{2}} $$\n",
    "\n",
    "$$ \\hat{y}_{i} = \\sum_{i'=1}^{n} \\left ( \\frac{ x_{i} x_{i'} } { \\sum_{j=1}^{n} x_{j}^{2} } \\times y_{i'} \\right ) $$\n",
    "\n",
    "$$ a_{i'} = \\frac{ x_{i} x_{i'} } { \\sum_{j=1}^{n} x_{j}^{2} } $$"
   ]
  },
  {
   "cell_type": "markdown",
   "metadata": {
    "colab_type": "text",
    "ein.tags": "worksheet-0",
    "id": "oQcKngBangdz"
   },
   "source": [
    "8. [ISLR 7.9.3] Suppose we fit a curve with basis functions $b_1\\left(x\\right)\n",
    "= x, b_2\\left(x\\right) = \\left(x - 1\\right)^2\\mathbb{1}\\{x \\geq 1\\}$. (Note\n",
    "that $\\mathbb{1}\\{x \\geq 1 \\}$ equals 1 for $x \\geq 1$ and 0 otherwise.) We\n",
    "fit the linear regression model,\n",
    "$$\n",
    "y = \\beta_0 + \\beta_1 b_1\\left(x\\right) + \\beta_2 b_2\\left(x\\right) + \\epsilon\n",
    "$$\n",
    "and obtain coefficient estimates $$\\hat{\\beta}_0 = 1, \\hat{\\beta}_1 = 1\n",
    "\\hat{\\beta}_2 = -2.$$ Sketch the estimated curve between $x = -2$ and $x =\n",
    "2$. Note the intercepts, slopes, and other relevant information."
   ]
  },
  {
   "cell_type": "markdown",
   "metadata": {},
   "source": [
    "$$x < 1 : Y = 1 + x$$\n",
    "$$x \\geq 1 : Y = 1 + x -2(x - 1)^2 $$ "
   ]
  },
  {
   "cell_type": "code",
   "execution_count": 56,
   "metadata": {},
   "outputs": [
    {
     "data": {
      "image/png": "[encoded data removed]",
      "text/plain": [
       "<Figure size 432x288 with 1 Axes>"
      ]
     },
     "metadata": {
      "needs_background": "light"
     },
     "output_type": "display_data"
    }
   ],
   "source": [
    "import matplotlib.pyplot as plt\n",
    "import numpy as np\n",
    "x = np.linspace(-2,1, 4)\n",
    "y = 1 + x\n",
    "\n",
    "x_two = np.linspace(1,2,2)\n",
    "y_two = 1 + x_two -2*(x_two-1)**2\n",
    "plt.scatter(x_two, y_two, label ='$1 + x -2(x-1)^2$')\n",
    "\n",
    "plt.scatter(x,y, label = \"1 + x\")\n",
    "plt.legend()\n",
    "plt.xlabel(\"x\")\n",
    "plt.ylabel(\"y\")\n",
    "plt.show()\n",
    "\n"
   ]
  },
  {
   "cell_type": "markdown",
   "metadata": {
    "colab_type": "text",
    "ein.tags": "worksheet-0",
    "id": "-8_lhxenngd4"
   },
   "source": [
    "11. [ISLR 8.4.4] Consider the figure below. \n",
    "\n",
    "  a. Sketch the tree corresponding to the partition of the predictor space\n",
    "illustrated in the left-hand panel. The numbers inside the boxes indicate the\n",
    "mean of $Y$ within each region. \n",
    "\n",
    "  b. Create a diagram similar to the left-hand\n",
    "panel, using the tree illustrated in the right-hand panel. You should divide up\n",
    "the predictor space into the correct regions, and indicate the mean for each\n",
    "region.\n",
    "\n",
    "<img width=600 src=\"https://drive.google.com/uc?id=19JrCdZvvj3YNqeKj2D8u7SKXCvv_aUkC\"/>\n"
   ]
  }
 ],
 "metadata": {
  "colab": {
   "name": "problem_sheet_2.ipynb",
   "provenance": []
  },
  "kernelspec": {
   "display_name": "Python 3",
   "language": "python",
   "name": "python3"
  },
  "language_info": {
   "codemirror_mode": {
    "name": "ipython",
    "version": 3
   },
   "file_extension": ".py",
   "mimetype": "text/x-python",
   "name": "python",
   "nbconvert_exporter": "python",
   "pygments_lexer": "ipython3",
   "version": "3.7.3"
  },
  "name": "Untitled.ipynb"
 },
 "nbformat": 4,
 "nbformat_minor": 1
}
